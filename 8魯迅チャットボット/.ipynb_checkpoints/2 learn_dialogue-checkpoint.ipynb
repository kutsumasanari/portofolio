{
 "cells": [
  {
   "cell_type": "code",
   "execution_count": 2,
   "metadata": {
    "colab": {
     "base_uri": "https://localhost:8080/"
    },
    "executionInfo": {
     "elapsed": 17936,
     "status": "ok",
     "timestamp": 1670159788452,
     "user": {
      "displayName": "Zhengcheng Qu",
      "userId": "15412233948967565620"
     },
     "user_tz": -540
    },
    "id": "4rNVz4J_R3VP",
    "outputId": "17b8dabb-7a2b-4f61-d878-59818a241a2c"
   },
   "outputs": [
    {
     "name": "stdout",
     "output_type": "stream",
     "text": [
      "Mounted at /content/gdrive/\n"
     ]
    }
   ],
   "source": [
    "from google.colab import drive\n",
    "drive.mount('/content/gdrive/')\n",
    "\n",
    "import os\n",
    "os.chdir('/content/gdrive/MyDrive/8 魯迅チャットボット/')"
   ]
  },
  {
   "cell_type": "markdown",
   "metadata": {
    "id": "Hc2puvMNOaVK"
   },
   "source": [
    "# 対話の学習"
   ]
  },
  {
   "cell_type": "markdown",
   "metadata": {
    "id": "wk3LX0ILOaVP"
   },
   "source": [
    "## １使用する文字"
   ]
  },
  {
   "cell_type": "code",
   "execution_count": 3,
   "metadata": {
    "colab": {
     "base_uri": "https://localhost:8080/"
    },
    "executionInfo": {
     "elapsed": 954,
     "status": "ok",
     "timestamp": 1670159789396,
     "user": {
      "displayName": "Zhengcheng Qu",
      "userId": "15412233948967565620"
     },
     "user_tz": -540
    },
    "id": "0A4fVzCUOaVQ",
    "outputId": "3532ea43-49e2-406e-e8d5-cbe6f8130dd5"
   },
   "outputs": [
    {
     "name": "stdout",
     "output_type": "stream",
     "text": [
      "['\\t', '\\n', '!', '(', ')', ',', '-', '.', '0', '1', '2', '3', '4', '5', '6', '7', '8', '9', 'C', 'M', 'N', 'O', 'P', 'Q', 'a', 'd', 'e', 'f', 'h', 'i', 'l', 'm', 'n', 'o', 'p', 'r', 's', 't', 'u', 'y', '×', '―', '○', '、', '。', '々', '〆', '〇', 'ぁ', 'あ', 'ぃ', 'い', 'ぅ', 'う', 'ぇ', 'え', 'ぉ', 'お', 'か', 'が', 'き', 'ぎ', 'く', 'ぐ', 'け', 'げ', 'こ', 'ご', 'さ', 'ざ', 'し', 'じ', 'す', 'ず', 'せ', 'ぜ', 'そ', 'ぞ', 'た', 'だ', 'ち', 'ぢ', 'っ', 'つ', 'づ', 'て', 'で', 'と', 'ど', 'な', 'に', 'ぬ', 'ね', 'の', 'は', 'ば', 'ぱ', 'ひ', 'び', 'ぴ', 'ふ', 'ぶ', 'ぷ', 'へ', 'べ', 'ぺ', 'ほ', 'ぼ', 'ぽ', 'ま', 'み', 'む', 'め', 'も', 'ゃ', 'や', 'ゅ', 'ゆ', 'ょ', 'よ', 'ら', 'り', 'る', 'れ', 'ろ', 'ゎ', 'わ', 'ゐ', 'ゑ', 'を', 'ん', 'ゝ', 'ゞ', 'ァ', 'ア', 'ィ', 'イ', 'ゥ', 'ウ', 'ェ', 'エ', 'ォ', 'オ', 'カ', 'ガ', 'キ', 'ギ', 'ク', 'グ', 'ケ', 'ゲ', 'コ', 'ゴ', 'サ', 'ザ', 'シ', 'ジ', 'ス', 'ズ', 'セ', 'ゼ', 'ソ', 'ゾ', 'タ', 'ダ', 'チ', 'ヂ', 'ッ', 'ツ', 'ヅ', 'テ', 'デ', 'ト', 'ド', 'ナ', 'ニ', 'ヌ', 'ネ', 'ノ', 'ハ', 'バ', 'パ', 'ヒ', 'ビ', 'ピ', 'フ', 'ブ', 'プ', 'ヘ', 'ベ', 'ペ', 'ホ', 'ボ', 'ポ', 'マ', 'ミ', 'ム', 'メ', 'モ', 'ャ', 'ヤ', 'ュ', 'ユ', 'ョ', 'ヨ', 'ラ', 'リ', 'ル', 'レ', 'ロ', 'ヮ', 'ワ', 'ヰ', 'ヱ', 'ヲ', 'ン', 'ヴ', 'ー', '！', '＋', '／', '＜', '？', 'Ａ', 'Ｄ', 'Ｋ', 'Ｎ', 'Ｏ', 'Ｑ', 'Ｓ']\n"
     ]
    }
   ],
   "source": [
    "import pickle\n",
    "\n",
    "hiragana = \"ぁあぃいぅうぇえぉおかがきぎくぐけげこごさざしじすずせぜそぞ\\\n",
    "ただちぢっつづてでとどなにぬねのはばぱひびぴふぶぷへべぺほぼぽ\\\n",
    "まみむめもゃやゅゆょよらりるれろゎわゐゑをん\"\n",
    "\n",
    "katakana = \"ァアィイゥウェエォオカガキギクグケゲコゴサザシジスズセゼソゾ\\\n",
    "タダチヂッツヅテデトドナニヌネノハバパヒビピフブプヘベペホボポ\\\n",
    "マミムメモャヤュユョヨラリルレロヮワヰヱヲンヴ\"\n",
    "\n",
    "chars = hiragana + katakana\n",
    "\n",
    "with open(\"kana_rojin.txt\", mode=\"r\", encoding=\"utf-8\") as f: \n",
    "    text = f.read()\n",
    "    \n",
    "for char in text:  # ひらがな、カタカナ以外でコーパスに使われている文字を追加\n",
    "    if char not in chars:\n",
    "        chars += char\n",
    "        \n",
    "chars += \"\\t\\n\"  # タブと改行を追加\n",
    "        \n",
    "chars_list = sorted(list(chars))  # 文字列をリストに変換してソートする\n",
    "print(chars_list)\n",
    "\n",
    "with open(\"kana_chars.pickle\", mode=\"wb\") as f:  # pickleで保存\n",
    "    pickle.dump(chars_list, f)"
   ]
  },
  {
   "cell_type": "markdown",
   "metadata": {
    "id": "zyqcmCprOaVT"
   },
   "source": [
    "## ２文字のベクトル化"
   ]
  },
  {
   "cell_type": "code",
   "execution_count": 4,
   "metadata": {
    "colab": {
     "base_uri": "https://localhost:8080/"
    },
    "executionInfo": {
     "elapsed": 675,
     "status": "ok",
     "timestamp": 1670159790067,
     "user": {
      "displayName": "Zhengcheng Qu",
      "userId": "15412233948967565620"
     },
     "user_tz": -540
    },
    "id": "S52SPBCPOaVU",
    "outputId": "60a5facb-c3bb-4d4b-bd87-41ce7aa811c7"
   },
   "outputs": [
    {
     "name": "stderr",
     "output_type": "stream",
     "text": [
      "<ipython-input-4-73e6e01929f6>:30: DeprecationWarning: `np.bool` is a deprecated alias for the builtin `bool`. To silence this warning, use `bool` by itself. Doing this will not modify any behavior and is safe. If you specifically wanted the numpy scalar type, use `np.bool_` here.\n",
      "Deprecated in NumPy 1.20; for more details and guidance: https://numpy.org/devdocs/release/1.20.0-notes.html#deprecations\n",
      "  x_encoder = np.zeros((n_sample, max_length_x, n_char), dtype=np.bool)  # encoderへの入力\n",
      "<ipython-input-4-73e6e01929f6>:31: DeprecationWarning: `np.bool` is a deprecated alias for the builtin `bool`. To silence this warning, use `bool` by itself. Doing this will not modify any behavior and is safe. If you specifically wanted the numpy scalar type, use `np.bool_` here.\n",
      "Deprecated in NumPy 1.20; for more details and guidance: https://numpy.org/devdocs/release/1.20.0-notes.html#deprecations\n",
      "  x_decoder = np.zeros((n_sample, max_length_t, n_char), dtype=np.bool)  # decoderへの入力\n",
      "<ipython-input-4-73e6e01929f6>:32: DeprecationWarning: `np.bool` is a deprecated alias for the builtin `bool`. To silence this warning, use `bool` by itself. Doing this will not modify any behavior and is safe. If you specifically wanted the numpy scalar type, use `np.bool_` here.\n",
      "Deprecated in NumPy 1.20; for more details and guidance: https://numpy.org/devdocs/release/1.20.0-notes.html#deprecations\n",
      "  t_decoder = np.zeros((n_sample, max_length_t, n_char), dtype=np.bool)  # decoderの正解\n"
     ]
    },
    {
     "name": "stdout",
     "output_type": "stream",
     "text": [
      "(3124, 128, 230)\n"
     ]
    }
   ],
   "source": [
    "import numpy as np\n",
    "\n",
    "# インデックスと文字で辞書を作成\n",
    "char_indices = {}  # 文字がキーでインデックスが値\n",
    "for i, char in enumerate(chars_list):\n",
    "    char_indices[char] = i\n",
    "indices_char = {}  # インデックスがキーで文字が値\n",
    "for i, char in enumerate(chars_list):\n",
    "    indices_char[i] = char\n",
    "    \n",
    "seperator = \"。\"\n",
    "sentence_list = text.split(seperator) \n",
    "sentence_list.pop() \n",
    "sentence_list = [x+seperator for x in sentence_list]\n",
    "\n",
    "max_sentence_length = 128  # 文章の最大長さ。これより長い文章はカットされる。\n",
    "sentence_list = [sentence for sentence in sentence_list if len(sentence) <= max_sentence_length]  # 長すぎる文章のカット\n",
    "\n",
    "n_char = len(chars_list)  # 文字の種類の数\n",
    "n_sample = len(sentence_list) - 1  # サンプル数\n",
    "\n",
    "x_sentences = []  # 入力の文章\n",
    "t_sentences = []  # 正解の文章\n",
    "for i in range(n_sample):\n",
    "    x_sentences.append(sentence_list[i])\n",
    "    t_sentences.append(\"\\t\" + sentence_list[i+1] + \"\\n\")  # 正解は先頭にタブ、末尾に改行を加える\n",
    "max_length_x = max_sentence_length  # 入力文章の最大長さ\n",
    "max_length_t = max_sentence_length + 2  # 正解文章の最大長さ\n",
    "\n",
    "x_encoder = np.zeros((n_sample, max_length_x, n_char), dtype=np.bool)  # encoderへの入力\n",
    "x_decoder = np.zeros((n_sample, max_length_t, n_char), dtype=np.bool)  # decoderへの入力\n",
    "t_decoder = np.zeros((n_sample, max_length_t, n_char), dtype=np.bool)  # decoderの正解\n",
    "\n",
    "for i in range(n_sample):\n",
    "    x_sentence = x_sentences[i]\n",
    "    t_sentence = t_sentences[i]\n",
    "    for j, char in enumerate(x_sentence):\n",
    "        x_encoder[i, j, char_indices[char]] = 1  # encoderへの入力をone-hot表現で表す\n",
    "    for j, char in enumerate(t_sentence):\n",
    "        x_decoder[i, j, char_indices[char]] = 1  # decoderへの入力をone-hot表現で表す\n",
    "        if j > 0:  # 正解は入力より1つ前の時刻のものにする\n",
    "            t_decoder[i, j-1, char_indices[char]] = 1\n",
    "            \n",
    "print(x_encoder.shape)"
   ]
  },
  {
   "cell_type": "markdown",
   "metadata": {
    "id": "42dbtSBNOaVV"
   },
   "source": [
    "## ３各設定"
   ]
  },
  {
   "cell_type": "code",
   "execution_count": 5,
   "metadata": {
    "executionInfo": {
     "elapsed": 10,
     "status": "ok",
     "timestamp": 1670159790070,
     "user": {
      "displayName": "Zhengcheng Qu",
      "userId": "15412233948967565620"
     },
     "user_tz": -540
    },
    "id": "ka4UrYLnOaVV"
   },
   "outputs": [],
   "source": [
    "batch_size = 32\n",
    "epochs = 1000\n",
    "n_mid = 256  # 中間層のニューロン数"
   ]
  },
  {
   "cell_type": "markdown",
   "metadata": {
    "id": "-OXLIusuOaVW"
   },
   "source": [
    "## ４学習用モデルの構築"
   ]
  },
  {
   "cell_type": "code",
   "execution_count": 6,
   "metadata": {
    "colab": {
     "base_uri": "https://localhost:8080/"
    },
    "executionInfo": {
     "elapsed": 4623,
     "status": "ok",
     "timestamp": 1670159794685,
     "user": {
      "displayName": "Zhengcheng Qu",
      "userId": "15412233948967565620"
     },
     "user_tz": -540
    },
    "id": "1CuYqWbAOaVX",
    "outputId": "04116a22-bd7f-4396-fd51-bc5f088ee393"
   },
   "outputs": [
    {
     "name": "stdout",
     "output_type": "stream",
     "text": [
      "Model: \"model\"\n",
      "__________________________________________________________________________________________________\n",
      " Layer (type)                   Output Shape         Param #     Connected to                     \n",
      "==================================================================================================\n",
      " input_1 (InputLayer)           [(None, None, 230)]  0           []                               \n",
      "                                                                                                  \n",
      " input_2 (InputLayer)           [(None, None, 230)]  0           []                               \n",
      "                                                                                                  \n",
      " masking (Masking)              (None, None, 230)    0           ['input_1[0][0]']                \n",
      "                                                                                                  \n",
      " masking_1 (Masking)            (None, None, 230)    0           ['input_2[0][0]']                \n",
      "                                                                                                  \n",
      " gru (GRU)                      [(None, 256),        374784      ['masking[0][0]']                \n",
      "                                 (None, 256)]                                                     \n",
      "                                                                                                  \n",
      " gru_1 (GRU)                    [(None, None, 256),  374784      ['masking_1[0][0]',              \n",
      "                                 (None, 256)]                     'gru[0][1]']                    \n",
      "                                                                                                  \n",
      " dense (Dense)                  (None, None, 230)    59110       ['gru_1[0][0]']                  \n",
      "                                                                                                  \n",
      "==================================================================================================\n",
      "Total params: 808,678\n",
      "Trainable params: 808,678\n",
      "Non-trainable params: 0\n",
      "__________________________________________________________________________________________________\n",
      "None\n"
     ]
    }
   ],
   "source": [
    "from keras.models import Model\n",
    "from keras.layers import Dense, GRU, Input, Masking\n",
    "\n",
    "encoder_input = Input(shape=(None, n_char))\n",
    "encoder_mask = Masking(mask_value=0)  # 全ての要素が0であるベクトルの入力は無視する\n",
    "encoder_masked = encoder_mask(encoder_input)\n",
    "encoder_lstm = GRU(n_mid, dropout=0.2, recurrent_dropout=0.2, return_state=True)  # dropoutを設定し、ニューロンをランダムに無効にする\n",
    "encoder_output, encoder_state_h = encoder_lstm(encoder_masked)\n",
    "\n",
    "decoder_input = Input(shape=(None, n_char))\n",
    "decoder_mask = Masking(mask_value=0)  # 全ての要素が0であるベクトルの入力は無視する\n",
    "decoder_masked = decoder_mask(decoder_input)\n",
    "decoder_lstm = GRU(n_mid, dropout=0.2, recurrent_dropout=0.2, return_sequences=True, return_state=True)  # dropoutを設定\n",
    "decoder_output, _ = decoder_lstm(decoder_masked, initial_state=encoder_state_h)  # encoderの状態を初期状態にする\n",
    "decoder_dense = Dense(n_char, activation='softmax')\n",
    "decoder_output = decoder_dense(decoder_output)\n",
    "\n",
    "model = Model([encoder_input, decoder_input], decoder_output)\n",
    "\n",
    "model.compile(loss=\"categorical_crossentropy\", optimizer=\"rmsprop\")\n",
    "print(model.summary())"
   ]
  },
  {
   "cell_type": "markdown",
   "metadata": {
    "id": "F-n8PUATOaVY"
   },
   "source": [
    "## ５学習"
   ]
  },
  {
   "cell_type": "code",
   "execution_count": null,
   "metadata": {
    "colab": {
     "background_save": true,
     "base_uri": "https://localhost:8080/"
    },
    "id": "3gcQd5rCOaVZ"
   },
   "outputs": [
    {
     "name": "stdout",
     "output_type": "stream",
     "text": [
      "Epoch 1/1000\n",
      "88/88 [==============================] - 84s 887ms/step - loss: 1.4306 - val_loss: 1.4413\n",
      "Epoch 2/1000\n",
      "88/88 [==============================] - 76s 870ms/step - loss: 1.3033 - val_loss: 1.3413\n",
      "Epoch 3/1000\n",
      "88/88 [==============================] - 78s 881ms/step - loss: 1.2422 - val_loss: 1.2972\n",
      "Epoch 4/1000\n",
      "88/88 [==============================] - 77s 873ms/step - loss: 1.2150 - val_loss: 1.2767\n",
      "Epoch 5/1000\n",
      "88/88 [==============================] - 78s 881ms/step - loss: 1.1961 - val_loss: 1.2581\n",
      "Epoch 6/1000\n",
      "88/88 [==============================] - 77s 871ms/step - loss: 1.1815 - val_loss: 1.2431\n",
      "Epoch 7/1000\n",
      "88/88 [==============================] - 76s 869ms/step - loss: 1.1701 - val_loss: 1.2359\n",
      "Epoch 8/1000\n",
      "88/88 [==============================] - 77s 877ms/step - loss: 1.1603 - val_loss: 1.2281\n",
      "Epoch 9/1000\n",
      "88/88 [==============================] - 76s 863ms/step - loss: 1.1528 - val_loss: 1.2213\n",
      "Epoch 10/1000\n",
      "88/88 [==============================] - 76s 858ms/step - loss: 1.1443 - val_loss: 1.2168\n",
      "Epoch 11/1000\n",
      "88/88 [==============================] - 77s 874ms/step - loss: 1.1375 - val_loss: 1.2087\n",
      "Epoch 12/1000\n",
      "88/88 [==============================] - 75s 855ms/step - loss: 1.1322 - val_loss: 1.2067\n",
      "Epoch 13/1000\n",
      "88/88 [==============================] - 77s 872ms/step - loss: 1.1251 - val_loss: 1.1989\n",
      "Epoch 14/1000\n",
      "88/88 [==============================] - 75s 852ms/step - loss: 1.1205 - val_loss: 1.1975\n",
      "Epoch 15/1000\n",
      "88/88 [==============================] - 74s 847ms/step - loss: 1.1151 - val_loss: 1.1920\n",
      "Epoch 16/1000\n",
      "88/88 [==============================] - 77s 869ms/step - loss: 1.1105 - val_loss: 1.1892\n",
      "Epoch 17/1000\n",
      "88/88 [==============================] - 75s 855ms/step - loss: 1.1038 - val_loss: 1.1802\n",
      "Epoch 18/1000\n",
      "88/88 [==============================] - 75s 847ms/step - loss: 1.0986 - val_loss: 1.1770\n",
      "Epoch 19/1000\n",
      "88/88 [==============================] - 75s 856ms/step - loss: 1.0927 - val_loss: 1.1738\n",
      "Epoch 20/1000\n",
      "88/88 [==============================] - 75s 853ms/step - loss: 1.0967 - val_loss: 1.1674\n",
      "Epoch 21/1000\n",
      "88/88 [==============================] - 75s 857ms/step - loss: 1.0839 - val_loss: 1.1667\n",
      "Epoch 22/1000\n",
      "88/88 [==============================] - 74s 846ms/step - loss: 1.0788 - val_loss: 1.1633\n",
      "Epoch 23/1000\n",
      "88/88 [==============================] - 74s 840ms/step - loss: 1.0738 - val_loss: 1.1588\n",
      "Epoch 24/1000\n",
      "88/88 [==============================] - 76s 864ms/step - loss: 1.0706 - val_loss: 1.1579\n",
      "Epoch 25/1000\n",
      "88/88 [==============================] - 74s 845ms/step - loss: 1.0646 - val_loss: 1.1530\n",
      "Epoch 26/1000\n",
      "88/88 [==============================] - 75s 850ms/step - loss: 1.0600 - val_loss: 1.1507\n",
      "Epoch 27/1000\n",
      "88/88 [==============================] - 76s 870ms/step - loss: 1.0539 - val_loss: 1.1471\n",
      "Epoch 28/1000\n",
      "88/88 [==============================] - 74s 839ms/step - loss: 1.0503 - val_loss: 1.1482\n",
      "Epoch 29/1000\n",
      "88/88 [==============================] - 73s 833ms/step - loss: 1.0449 - val_loss: 1.1409\n",
      "Epoch 30/1000\n",
      "88/88 [==============================] - 75s 856ms/step - loss: 1.0412 - val_loss: 1.1398\n",
      "Epoch 31/1000\n",
      "88/88 [==============================] - 74s 846ms/step - loss: 1.0366 - val_loss: 1.1347\n",
      "Epoch 32/1000\n",
      "88/88 [==============================] - 74s 839ms/step - loss: 1.0327 - val_loss: 1.1328\n",
      "Epoch 33/1000\n",
      "88/88 [==============================] - 75s 858ms/step - loss: 1.0266 - val_loss: 1.1310\n",
      "Epoch 34/1000\n",
      "88/88 [==============================] - 74s 837ms/step - loss: 1.0241 - val_loss: 1.1286\n",
      "Epoch 35/1000\n",
      "88/88 [==============================] - 74s 841ms/step - loss: 1.0210 - val_loss: 1.1261\n",
      "Epoch 36/1000\n",
      "88/88 [==============================] - 75s 851ms/step - loss: 1.0172 - val_loss: 1.1262\n",
      "Epoch 37/1000\n",
      "88/88 [==============================] - 75s 848ms/step - loss: 1.0120 - val_loss: 1.1221\n",
      "Epoch 38/1000\n",
      "88/88 [==============================] - 75s 855ms/step - loss: 1.0087 - val_loss: 1.1204\n",
      "Epoch 39/1000\n",
      "88/88 [==============================] - 74s 836ms/step - loss: 1.0050 - val_loss: 1.1209\n",
      "Epoch 40/1000\n",
      "88/88 [==============================] - 74s 836ms/step - loss: 1.0017 - val_loss: 1.1203\n",
      "Epoch 41/1000\n",
      "88/88 [==============================] - 75s 855ms/step - loss: 0.9982 - val_loss: 1.1189\n",
      "Epoch 42/1000\n",
      "88/88 [==============================] - 74s 838ms/step - loss: 0.9948 - val_loss: 1.1166\n",
      "Epoch 43/1000\n",
      "88/88 [==============================] - 74s 839ms/step - loss: 0.9909 - val_loss: 1.1171\n",
      "Epoch 44/1000\n",
      "88/88 [==============================] - 75s 858ms/step - loss: 0.9866 - val_loss: 1.1142\n",
      "Epoch 45/1000\n",
      "88/88 [==============================] - 74s 841ms/step - loss: 0.9851 - val_loss: 1.1136\n",
      "Epoch 46/1000\n",
      "88/88 [==============================] - 74s 842ms/step - loss: 0.9833 - val_loss: 1.1103\n",
      "Epoch 47/1000\n",
      "88/88 [==============================] - 76s 860ms/step - loss: 0.9794 - val_loss: 1.1110\n",
      "Epoch 48/1000\n",
      "88/88 [==============================] - 74s 837ms/step - loss: 0.9760 - val_loss: 1.1095\n",
      "Epoch 49/1000\n",
      "88/88 [==============================] - 74s 837ms/step - loss: 0.9738 - val_loss: 1.1078\n",
      "Epoch 50/1000\n",
      "88/88 [==============================] - 75s 852ms/step - loss: 0.9707 - val_loss: 1.1087\n",
      "Epoch 51/1000\n",
      "88/88 [==============================] - 74s 842ms/step - loss: 0.9682 - val_loss: 1.1069\n",
      "Epoch 52/1000\n",
      "88/88 [==============================] - 74s 843ms/step - loss: 0.9670 - val_loss: 1.1059\n",
      "Epoch 53/1000\n",
      "88/88 [==============================] - 74s 846ms/step - loss: 0.9631 - val_loss: 1.1077\n",
      "Epoch 54/1000\n",
      "88/88 [==============================] - 76s 860ms/step - loss: 0.9606 - val_loss: 1.1049\n",
      "Epoch 55/1000\n",
      "88/88 [==============================] - 74s 842ms/step - loss: 0.9588 - val_loss: 1.1079\n",
      "Epoch 56/1000\n",
      "88/88 [==============================] - 74s 838ms/step - loss: 0.9565 - val_loss: 1.1039\n",
      "Epoch 57/1000\n",
      "88/88 [==============================] - 75s 858ms/step - loss: 0.9524 - val_loss: 1.1038\n",
      "Epoch 58/1000\n",
      "88/88 [==============================] - 74s 839ms/step - loss: 0.9518 - val_loss: 1.1035\n",
      "Epoch 59/1000\n",
      "88/88 [==============================] - 74s 838ms/step - loss: 0.9499 - val_loss: 1.1019\n",
      "Epoch 60/1000\n",
      "88/88 [==============================] - 75s 856ms/step - loss: 0.9462 - val_loss: 1.1055\n",
      "Epoch 61/1000\n",
      "88/88 [==============================] - 74s 841ms/step - loss: 0.9445 - val_loss: 1.1055\n",
      "Epoch 62/1000\n",
      "88/88 [==============================] - 74s 840ms/step - loss: 0.9418 - val_loss: 1.1030\n",
      "Epoch 63/1000\n",
      "88/88 [==============================] - 74s 843ms/step - loss: 0.9390 - val_loss: 1.1024\n",
      "Epoch 64/1000\n",
      "88/88 [==============================] - 76s 859ms/step - loss: 0.9377 - val_loss: 1.1017\n",
      "Epoch 65/1000\n",
      "88/88 [==============================] - 74s 839ms/step - loss: 0.9353 - val_loss: 1.1020\n",
      "Epoch 66/1000\n",
      "88/88 [==============================] - 74s 841ms/step - loss: 0.9334 - val_loss: 1.1030\n",
      "Epoch 67/1000\n",
      "88/88 [==============================] - 75s 852ms/step - loss: 0.9317 - val_loss: 1.1008\n",
      "Epoch 68/1000\n",
      "88/88 [==============================] - 75s 857ms/step - loss: 0.9298 - val_loss: 1.1019\n",
      "Epoch 69/1000\n",
      "88/88 [==============================] - 74s 839ms/step - loss: 0.9275 - val_loss: 1.1015\n",
      "Epoch 70/1000\n",
      "88/88 [==============================] - 73s 833ms/step - loss: 0.9261 - val_loss: 1.1021\n",
      "Epoch 71/1000\n",
      "88/88 [==============================] - 73s 825ms/step - loss: 0.9250 - val_loss: 1.1014\n",
      "Epoch 72/1000\n",
      "88/88 [==============================] - 74s 837ms/step - loss: 0.9234 - val_loss: 1.1030\n",
      "Epoch 73/1000\n",
      "88/88 [==============================] - 73s 835ms/step - loss: 0.9202 - val_loss: 1.1013\n",
      "Epoch 74/1000\n",
      "88/88 [==============================] - 73s 834ms/step - loss: 0.9196 - val_loss: 1.1005\n",
      "Epoch 75/1000\n",
      "88/88 [==============================] - 73s 833ms/step - loss: 0.9156 - val_loss: 1.1013\n",
      "Epoch 76/1000\n",
      "88/88 [==============================] - 74s 835ms/step - loss: 0.9159 - val_loss: 1.1006\n",
      "Epoch 77/1000\n",
      "88/88 [==============================] - 75s 849ms/step - loss: 0.9141 - val_loss: 1.0999\n",
      "Epoch 78/1000\n",
      "88/88 [==============================] - 74s 840ms/step - loss: 0.9119 - val_loss: 1.1029\n",
      "Epoch 79/1000\n",
      "88/88 [==============================] - 75s 849ms/step - loss: 0.9120 - val_loss: 1.1009\n",
      "Epoch 80/1000\n",
      "88/88 [==============================] - 73s 833ms/step - loss: 0.9087 - val_loss: 1.1006\n",
      "Epoch 81/1000\n",
      "88/88 [==============================] - 74s 839ms/step - loss: 0.9084 - val_loss: 1.1014\n",
      "Epoch 82/1000\n",
      "88/88 [==============================] - 73s 834ms/step - loss: 0.9049 - val_loss: 1.1017\n",
      "Epoch 83/1000\n",
      "88/88 [==============================] - 75s 854ms/step - loss: 0.9049 - val_loss: 1.1006\n",
      "Epoch 84/1000\n",
      "88/88 [==============================] - 74s 838ms/step - loss: 0.9035 - val_loss: 1.1034\n",
      "Epoch 85/1000\n",
      "88/88 [==============================] - 74s 843ms/step - loss: 0.8997 - val_loss: 1.1016\n",
      "Epoch 86/1000\n",
      "88/88 [==============================] - 73s 835ms/step - loss: 0.8995 - val_loss: 1.1030\n",
      "Epoch 87/1000\n",
      "88/88 [==============================] - 75s 850ms/step - loss: 0.8990 - val_loss: 1.1025\n",
      "Epoch 88/1000\n",
      "88/88 [==============================] - 74s 836ms/step - loss: 0.8974 - val_loss: 1.1013\n",
      "Epoch 89/1000\n",
      "88/88 [==============================] - 74s 838ms/step - loss: 0.8961 - val_loss: 1.1054\n",
      "Epoch 90/1000\n",
      "88/88 [==============================] - 73s 830ms/step - loss: 0.8952 - val_loss: 1.1043\n",
      "Epoch 91/1000\n",
      "88/88 [==============================] - 74s 842ms/step - loss: 0.8932 - val_loss: 1.1047\n",
      "Epoch 92/1000\n",
      "88/88 [==============================] - 73s 829ms/step - loss: 0.8908 - val_loss: 1.1020\n",
      "Epoch 93/1000\n",
      "88/88 [==============================] - 73s 829ms/step - loss: 0.8909 - val_loss: 1.1044\n",
      "Epoch 94/1000\n",
      "88/88 [==============================] - 73s 829ms/step - loss: 0.8898 - val_loss: 1.1027\n",
      "Epoch 95/1000\n",
      "88/88 [==============================] - 75s 850ms/step - loss: 0.8873 - val_loss: 1.1059\n",
      "Epoch 96/1000\n",
      "88/88 [==============================] - 73s 832ms/step - loss: 0.8862 - val_loss: 1.1052\n",
      "Epoch 97/1000\n",
      "88/88 [==============================] - 73s 826ms/step - loss: 0.8859 - val_loss: 1.1096\n",
      "Epoch 98/1000\n",
      "88/88 [==============================] - 73s 830ms/step - loss: 0.8839 - val_loss: 1.1054\n",
      "Epoch 99/1000\n",
      "88/88 [==============================] - 74s 845ms/step - loss: 0.8827 - val_loss: 1.1058\n",
      "Epoch 100/1000\n",
      "88/88 [==============================] - 73s 831ms/step - loss: 0.8829 - val_loss: 1.1046\n",
      "Epoch 101/1000\n",
      "88/88 [==============================] - 73s 834ms/step - loss: 0.8811 - val_loss: 1.1054\n",
      "Epoch 102/1000\n",
      "88/88 [==============================] - 74s 843ms/step - loss: 0.8792 - val_loss: 1.1063\n",
      "Epoch 103/1000\n",
      "88/88 [==============================] - 75s 853ms/step - loss: 0.8790 - val_loss: 1.1066\n",
      "Epoch 104/1000\n",
      "88/88 [==============================] - 74s 845ms/step - loss: 0.8770 - val_loss: 1.1064\n",
      "Epoch 105/1000\n",
      "88/88 [==============================] - 73s 833ms/step - loss: 0.8772 - val_loss: 1.1083\n",
      "Epoch 106/1000\n",
      "88/88 [==============================] - 74s 842ms/step - loss: 0.8749 - val_loss: 1.1103\n",
      "Epoch 107/1000\n",
      "88/88 [==============================] - 75s 854ms/step - loss: 0.8744 - val_loss: 1.1079\n"
     ]
    }
   ],
   "source": [
    "from keras.callbacks import EarlyStopping \n",
    "\n",
    "# val_lossに改善が見られなくなってから、30エポックで学習は終了\n",
    "early_stopping = EarlyStopping(monitor=\"val_loss\", patience=30) \n",
    "\n",
    "history = model.fit([x_encoder, x_decoder], t_decoder,\n",
    "                     batch_size=batch_size,\n",
    "                     epochs=epochs,\n",
    "                     validation_split=0.1,  # 10%は検証用\n",
    "                     callbacks=[early_stopping])"
   ]
  },
  {
   "cell_type": "markdown",
   "metadata": {
    "id": "ZI0G3iLWOaVZ"
   },
   "source": [
    "## ６学習の推移"
   ]
  },
  {
   "cell_type": "code",
   "execution_count": null,
   "metadata": {
    "colab": {
     "background_save": true
    },
    "id": "Ku5PVZtJOaVa"
   },
   "outputs": [
    {
     "data": {
      "image/png": "[encoded data removed]",
      "text/plain": [
       "<Figure size 432x288 with 1 Axes>"
      ]
     },
     "metadata": {},
     "output_type": "display_data"
    }
   ],
   "source": [
    "%matplotlib inline\n",
    "import matplotlib.pyplot as plt\n",
    "\n",
    "loss = history.history['loss']\n",
    "val_loss = history.history['val_loss']\n",
    "\n",
    "plt.plot(np.arange(len(loss)), loss)\n",
    "plt.plot(np.arange(len(val_loss)), val_loss)\n",
    "plt.show()"
   ]
  },
  {
   "cell_type": "markdown",
   "metadata": {
    "id": "A0JKTbhvOaVb"
   },
   "source": [
    "## ７予測用モデルの構築"
   ]
  },
  {
   "cell_type": "code",
   "execution_count": null,
   "metadata": {
    "colab": {
     "background_save": true
    },
    "id": "9xCMj_vDOaVb"
   },
   "outputs": [
    {
     "name": "stderr",
     "output_type": "stream",
     "text": [
      "WARNING:tensorflow:Compiled the loaded model, but the compiled metrics have yet to be built. `model.compile_metrics` will be empty until you train or evaluate the model.\n",
      "WARNING:tensorflow:Compiled the loaded model, but the compiled metrics have yet to be built. `model.compile_metrics` will be empty until you train or evaluate the model.\n"
     ]
    }
   ],
   "source": [
    "# encoderのモデル\n",
    "encoder_model = Model(encoder_input, encoder_state_h)\n",
    "\n",
    "# decoderのモデル\n",
    "decoder_state_in_h = Input(shape=(n_mid,))\n",
    "decoder_state_in = [decoder_state_in_h]\n",
    "\n",
    "decoder_output, decoder_state_h = decoder_lstm(decoder_input,\n",
    "                                               initial_state=decoder_state_in_h)\n",
    "decoder_output = decoder_dense(decoder_output)\n",
    "\n",
    "decoder_model = Model([decoder_input] + decoder_state_in,\n",
    "                      [decoder_output, decoder_state_h])\n",
    "\n",
    "# モデルの保存\n",
    "encoder_model.save('encoder_model.h5')\n",
    "decoder_model.save('decoder_model.h5')"
   ]
  },
  {
   "cell_type": "markdown",
   "metadata": {
    "id": "tx0rZPaWOaVd"
   },
   "source": [
    "## ８返答作成用の関数"
   ]
  },
  {
   "cell_type": "code",
   "execution_count": null,
   "metadata": {
    "colab": {
     "background_save": true
    },
    "id": "JZAzAmfXOaVd"
   },
   "outputs": [],
   "source": [
    "def respond(input_data, beta=5):\n",
    "    state_value = encoder_model.predict(input_data)\n",
    "    y_decoder = np.zeros((1, 1, n_char))  # decoderの出力を格納する配列\n",
    "    y_decoder[0][0][char_indices[\"\\t\"]] = 1  # decoderの最初の入力はタブ。one-hot表現にする。\n",
    "\n",
    "    respond_sentence = \"\"  # 返答の文字列\n",
    "    while True:\n",
    "        y, h = decoder_model.predict([y_decoder, state_value])\n",
    "        p_power = y[0][0] ** beta  # 確率分布の調整\n",
    "        next_index = np.random.choice(len(p_power), p=p_power/np.sum(p_power)) \n",
    "        next_char = indices_char[next_index]  # 次の文字\n",
    "\n",
    "        if (next_char == \"\\n\" or len(respond_sentence) >= max_length_x):\n",
    "            break  # 次の文字が改行のとき、もしくは最大文字数を超えたときは終了\n",
    "            \n",
    "        respond_sentence += next_char\n",
    "        y_decoder = np.zeros((1, 1, n_char))  # 次の時刻の入力\n",
    "        y_decoder[0][0][next_index] = 1\n",
    "\n",
    "        state_value = h  # 次の時刻の状態\n",
    "\n",
    "    return respond_sentence"
   ]
  },
  {
   "cell_type": "markdown",
   "metadata": {
    "id": "v77U5wUDOaVe"
   },
   "source": [
    "## ９動作の確認\n",
    "訓練データの最初の100文を使って、どのような返答が返ってくるかを確かめる。"
   ]
  },
  {
   "cell_type": "code",
   "execution_count": null,
   "metadata": {
    "id": "y-rhzGkQOaVe"
   },
   "outputs": [],
   "source": [
    "for i in range(100):  \n",
    "    x_in = x_encoder[i:i+1]  # 入力\n",
    "    responce = respond(x_in)  # 返答\n",
    "    print(\"Input:\", x_sentences[i])\n",
    "    print(\"Response:\", responce)\n",
    "    print()"
   ]
  }
 ],
 "metadata": {
  "accelerator": "GPU",
  "colab": {
   "name": "",
   "version": ""
  },
  "gpuClass": "standard",
  "kernelspec": {
   "display_name": "Python 3 (ipykernel)",
   "language": "python",
   "name": "python3"
  },
  "language_info": {
   "codemirror_mode": {
    "name": "ipython",
    "version": 3
   },
   "file_extension": ".py",
   "mimetype": "text/x-python",
   "name": "python",
   "nbconvert_exporter": "python",
   "pygments_lexer": "ipython3",
   "version": "3.9.13"
  },
  "toc": {
   "base_numbering": 1,
   "nav_menu": {},
   "number_sections": true,
   "sideBar": true,
   "skip_h1_title": false,
   "title_cell": "Table of Contents",
   "title_sidebar": "Contents",
   "toc_cell": false,
   "toc_position": {},
   "toc_section_display": true,
   "toc_window_display": false
  }
 },
 "nbformat": 4,
 "nbformat_minor": 1
}
