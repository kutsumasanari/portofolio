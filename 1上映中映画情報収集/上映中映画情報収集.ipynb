{
 "cells": [
  {
   "cell_type": "code",
   "execution_count": 2,
   "id": "5cbf6563-0dd2-4dda-bf19-8c290501d5e7",
   "metadata": {},
   "outputs": [
    {
     "name": "stdout",
     "output_type": "stream",
     "text": [
      "Requirement already satisfied: openpyxl in d:\\anaconda\\lib\\site-packages (from -r requirements.txt (line 1)) (3.0.10)"
     ]
    },
    {
     "name": "stderr",
     "output_type": "stream",
     "text": [
      "WARNING: Ignoring invalid distribution -illow (c:\\users\\26099\\appdata\\roaming\\python\\python39\\site-packages)\n",
      "WARNING: Ignoring invalid distribution -illow (c:\\users\\26099\\appdata\\roaming\\python\\python39\\site-packages)\n",
      "WARNING: Ignoring invalid distribution -illow (c:\\users\\26099\\appdata\\roaming\\python\\python39\\site-packages)\n",
      "WARNING: Ignoring invalid distribution -illow (c:\\users\\26099\\appdata\\roaming\\python\\python39\\site-packages)\n",
      "WARNING: Ignoring invalid distribution -illow (c:\\users\\26099\\appdata\\roaming\\python\\python39\\site-packages)\n",
      "WARNING: Ignoring invalid distribution -illow (c:\\users\\26099\\appdata\\roaming\\python\\python39\\site-packages)\n"
     ]
    },
    {
     "name": "stdout",
     "output_type": "stream",
     "text": [
      "\n",
      "Requirement already satisfied: pandas in d:\\anaconda\\lib\\site-packages (from -r requirements.txt (line 2)) (1.4.4)\n",
      "Requirement already satisfied: pillow in d:\\anaconda\\lib\\site-packages (from -r requirements.txt (line 3)) (9.2.0)\n",
      "Requirement already satisfied: selenium in d:\\anaconda\\lib\\site-packages (from -r requirements.txt (line 4)) (4.7.2)\n",
      "Requirement already satisfied: et_xmlfile in d:\\anaconda\\lib\\site-packages (from openpyxl->-r requirements.txt (line 1)) (1.1.0)\n",
      "Requirement already satisfied: python-dateutil>=2.8.1 in c:\\users\\26099\\appdata\\roaming\\python\\python39\\site-packages (from pandas->-r requirements.txt (line 2)) (2.8.1)\n",
      "Requirement already satisfied: pytz>=2020.1 in d:\\anaconda\\lib\\site-packages (from pandas->-r requirements.txt (line 2)) (2022.1)\n",
      "Requirement already satisfied: numpy>=1.18.5 in c:\\users\\26099\\appdata\\roaming\\python\\python39\\site-packages (from pandas->-r requirements.txt (line 2)) (1.20.3)\n",
      "Requirement already satisfied: urllib3[socks]~=1.26 in c:\\users\\26099\\appdata\\roaming\\python\\python39\\site-packages (from selenium->-r requirements.txt (line 4)) (1.26.4)\n",
      "Requirement already satisfied: trio~=0.17 in d:\\anaconda\\lib\\site-packages (from selenium->-r requirements.txt (line 4)) (0.22.0)\n",
      "Requirement already satisfied: certifi>=2021.10.8 in d:\\anaconda\\lib\\site-packages (from selenium->-r requirements.txt (line 4)) (2022.9.24)\n",
      "Requirement already satisfied: trio-websocket~=0.9 in d:\\anaconda\\lib\\site-packages (from selenium->-r requirements.txt (line 4)) (0.9.2)\n",
      "Requirement already satisfied: six>=1.5 in c:\\users\\26099\\appdata\\roaming\\python\\python39\\site-packages (from python-dateutil>=2.8.1->pandas->-r requirements.txt (line 2)) (1.16.0)\n",
      "Requirement already satisfied: outcome in d:\\anaconda\\lib\\site-packages (from trio~=0.17->selenium->-r requirements.txt (line 4)) (1.2.0)\n",
      "Requirement already satisfied: cffi>=1.14 in c:\\users\\26099\\appdata\\roaming\\python\\python39\\site-packages (from trio~=0.17->selenium->-r requirements.txt (line 4)) (1.14.5)\n",
      "Requirement already satisfied: sniffio in d:\\anaconda\\lib\\site-packages (from trio~=0.17->selenium->-r requirements.txt (line 4)) (1.2.0)\n",
      "Requirement already satisfied: sortedcontainers in d:\\anaconda\\lib\\site-packages (from trio~=0.17->selenium->-r requirements.txt (line 4)) (2.4.0)\n",
      "Requirement already satisfied: attrs>=19.2.0 in c:\\users\\26099\\appdata\\roaming\\python\\python39\\site-packages (from trio~=0.17->selenium->-r requirements.txt (line 4)) (21.2.0)\n",
      "Requirement already satisfied: async-generator>=1.9 in c:\\users\\26099\\appdata\\roaming\\python\\python39\\site-packages (from trio~=0.17->selenium->-r requirements.txt (line 4)) (1.10)\n",
      "Requirement already satisfied: idna in c:\\users\\26099\\appdata\\roaming\\python\\python39\\site-packages (from trio~=0.17->selenium->-r requirements.txt (line 4)) (2.10)\n",
      "Requirement already satisfied: exceptiongroup>=1.0.0rc9 in d:\\anaconda\\lib\\site-packages (from trio~=0.17->selenium->-r requirements.txt (line 4)) (1.0.4)\n",
      "Requirement already satisfied: wsproto>=0.14 in d:\\anaconda\\lib\\site-packages (from trio-websocket~=0.9->selenium->-r requirements.txt (line 4)) (1.2.0)\n",
      "Requirement already satisfied: PySocks!=1.5.7,<2.0,>=1.5.6 in d:\\anaconda\\lib\\site-packages (from urllib3[socks]~=1.26->selenium->-r requirements.txt (line 4)) (1.7.1)\n",
      "Requirement already satisfied: pycparser in c:\\users\\26099\\appdata\\roaming\\python\\python39\\site-packages (from cffi>=1.14->trio~=0.17->selenium->-r requirements.txt (line 4)) (2.20)\n",
      "Requirement already satisfied: h11<1,>=0.9.0 in d:\\anaconda\\lib\\site-packages (from wsproto>=0.14->trio-websocket~=0.9->selenium->-r requirements.txt (line 4)) (0.14.0)\n"
     ]
    }
   ],
   "source": [
    "# 必要となるmoduleをダウンロードする。\n",
    "!pip install -r requirements.txt"
   ]
  },
  {
   "cell_type": "code",
   "execution_count": 7,
   "id": "bc7ffb1e",
   "metadata": {},
   "outputs": [],
   "source": [
    "# ウェブサイトを開く。\n",
    "from selenium import webdriver\n",
    "browser = webdriver.Chrome()\n",
    "browser.get('https://filmarks.com/list/now')"
   ]
  },
  {
   "cell_type": "markdown",
   "id": "e24e5738",
   "metadata": {},
   "source": [
    "# １すべての映画の情報を取得"
   ]
  },
  {
   "cell_type": "code",
   "execution_count": 8,
   "id": "267086b5",
   "metadata": {},
   "outputs": [],
   "source": [
    "from selenium.webdriver.chrome import service\n",
    "from selenium.webdriver.common.by import By"
   ]
  },
  {
   "cell_type": "code",
   "execution_count": null,
   "id": "a222ce61",
   "metadata": {},
   "outputs": [],
   "source": [
    "titles = []\n",
    "days = []\n",
    "countrys = []\n",
    "scores = []\n",
    "\n",
    "from selenium.common.exceptions import NoSuchElementException\n",
    "\n",
    "for page in range(1,14): # 14ページまで情報収集する。\n",
    "    \n",
    "    url = 'https://filmarks.com/list/now?page={}'.format(page)\n",
    "    browser.get(url)\n",
    "        \n",
    "    elems_wrapper = browser.find_elements(By.CLASS_NAME, 'p-content-cassette__title-wrapper') # 映画名を取得する。\n",
    "    for elem_wrapper in elems_wrapper:   \n",
    "        elem_title = elem_wrapper.find_element(By.CLASS_NAME, 'p-content-cassette__title')\n",
    "        titles.append(elem_title.text)\n",
    "    \n",
    "    elems_info = browser.find_elements(By.CLASS_NAME, 'p-content-cassette__info__main') # 映画の上映日を取得する。\n",
    "    for elem_info in elems_info:\n",
    "        elem_day = elem_info.find_element(By.CLASS_NAME, \"p-content-cassette__other-info\").find_element(By.TAG_NAME, \"span\")\n",
    "        days.append(elem_day.text)\n",
    "\n",
    "    elems_info = browser.find_elements(By.CLASS_NAME, 'p-content-cassette__other-info') # 映画の製作国を取得する。\n",
    "    for elem_info in elems_info:\n",
    "        try:\n",
    "            elem_info.find_element(By.TAG_NAME, \"a\")\n",
    "        except NoSuchElementException: # 製作国はない場合。\n",
    "            elem_country = \"/\"\n",
    "            countrys.append(elem_country)\n",
    "        else:\n",
    "            elem_country = elem_info.find_element(By.TAG_NAME, \"a\") \n",
    "            countrys.append(elem_country.text)\n",
    "\n",
    "    elems_star = browser.find_elements(By.CLASS_NAME, 'p-content-cassette__rate') # 映画の評価点数を取得する。\n",
    "    for elem_star in elems_star:\n",
    "        try:\n",
    "            elem_star.find_element(By.CLASS_NAME, 'c-rating__score')\n",
    "        except NoSuchElementException: # 評価点数はない場合。\n",
    "            elem_star = \"/\"\n",
    "            scores.append(elem_star)\n",
    "        else:\n",
    "            elem_score = elem_star.find_element(By.CLASS_NAME, 'c-rating__score')\n",
    "            scores.append(elem_score.text)"
   ]
  },
  {
   "cell_type": "code",
   "execution_count": 12,
   "id": "d39901ef",
   "metadata": {},
   "outputs": [
    {
     "data": {
      "text/html": [
       "<div>\n",
       "<style scoped>\n",
       "    .dataframe tbody tr th:only-of-type {\n",
       "        vertical-align: middle;\n",
       "    }\n",
       "\n",
       "    .dataframe tbody tr th {\n",
       "        vertical-align: top;\n",
       "    }\n",
       "\n",
       "    .dataframe thead th {\n",
       "        text-align: right;\n",
       "    }\n",
       "</style>\n",
       "<table border=\"1\" class=\"dataframe\">\n",
       "  <thead>\n",
       "    <tr style=\"text-align: right;\">\n",
       "      <th></th>\n",
       "      <th>映画名</th>\n",
       "      <th>上映日</th>\n",
       "      <th>製作国</th>\n",
       "      <th>評価点数</th>\n",
       "    </tr>\n",
       "  </thead>\n",
       "  <tbody>\n",
       "    <tr>\n",
       "      <th>0</th>\n",
       "      <td>すずめの戸締まり</td>\n",
       "      <td>2022年11月11日</td>\n",
       "      <td>日本</td>\n",
       "      <td>4.0</td>\n",
       "    </tr>\n",
       "    <tr>\n",
       "      <th>1</th>\n",
       "      <td>母性</td>\n",
       "      <td>2022年11月23日</td>\n",
       "      <td>日本</td>\n",
       "      <td>3.6</td>\n",
       "    </tr>\n",
       "    <tr>\n",
       "      <th>2</th>\n",
       "      <td>ザ・メニュー</td>\n",
       "      <td>2022年11月18日</td>\n",
       "      <td>アメリカ</td>\n",
       "      <td>3.7</td>\n",
       "    </tr>\n",
       "    <tr>\n",
       "      <th>3</th>\n",
       "      <td>ある男</td>\n",
       "      <td>2022年11月18日</td>\n",
       "      <td>日本</td>\n",
       "      <td>3.9</td>\n",
       "    </tr>\n",
       "    <tr>\n",
       "      <th>4</th>\n",
       "      <td>RRR</td>\n",
       "      <td>2022年10月21日</td>\n",
       "      <td>インド</td>\n",
       "      <td>4.4</td>\n",
       "    </tr>\n",
       "    <tr>\n",
       "      <th>...</th>\n",
       "      <td>...</td>\n",
       "      <td>...</td>\n",
       "      <td>...</td>\n",
       "      <td>...</td>\n",
       "    </tr>\n",
       "    <tr>\n",
       "      <th>425</th>\n",
       "      <td>HANNORA</td>\n",
       "      <td>2022年07月02日</td>\n",
       "      <td>日本</td>\n",
       "      <td>3.3</td>\n",
       "    </tr>\n",
       "    <tr>\n",
       "      <th>426</th>\n",
       "      <td>カルメン in Cinema</td>\n",
       "      <td>2022年11月18日</td>\n",
       "      <td>日本</td>\n",
       "      <td>4.4</td>\n",
       "    </tr>\n",
       "    <tr>\n",
       "      <th>427</th>\n",
       "      <td>for you 人のために</td>\n",
       "      <td>2022年08月05日</td>\n",
       "      <td>日本</td>\n",
       "      <td>3.5</td>\n",
       "    </tr>\n",
       "    <tr>\n",
       "      <th>428</th>\n",
       "      <td>うむい獅子　仲宗根正廣の獅子づくり</td>\n",
       "      <td>2022年09月16日</td>\n",
       "      <td>日本</td>\n",
       "      <td>3.3</td>\n",
       "    </tr>\n",
       "    <tr>\n",
       "      <th>429</th>\n",
       "      <td>ザ・スター 美空ひばり 〜大人の音楽祭〜</td>\n",
       "      <td>2013年06月08日</td>\n",
       "      <td>日本</td>\n",
       "      <td>2.7</td>\n",
       "    </tr>\n",
       "  </tbody>\n",
       "</table>\n",
       "<p>430 rows × 4 columns</p>\n",
       "</div>"
      ],
      "text/plain": [
       "                      映画名          上映日   製作国 評価点数\n",
       "0                すずめの戸締まり  2022年11月11日    日本  4.0\n",
       "1                      母性  2022年11月23日    日本  3.6\n",
       "2                  ザ・メニュー  2022年11月18日  アメリカ  3.7\n",
       "3                     ある男  2022年11月18日    日本  3.9\n",
       "4                     RRR  2022年10月21日   インド  4.4\n",
       "..                    ...          ...   ...  ...\n",
       "425               HANNORA  2022年07月02日    日本  3.3\n",
       "426        カルメン in Cinema  2022年11月18日    日本  4.4\n",
       "427         for you 人のために  2022年08月05日    日本  3.5\n",
       "428     うむい獅子　仲宗根正廣の獅子づくり  2022年09月16日    日本  3.3\n",
       "429  ザ・スター 美空ひばり 〜大人の音楽祭〜  2013年06月08日    日本  2.7\n",
       "\n",
       "[430 rows x 4 columns]"
      ]
     },
     "execution_count": 12,
     "metadata": {},
     "output_type": "execute_result"
    }
   ],
   "source": [
    "import pandas as pd\n",
    "df = pd.DataFrame({'映画名': titles,\n",
    "                   '上映日': days,\n",
    "                   '製作国': countrys,\n",
    "                   '評価点数': scores\n",
    "                  })\n",
    "\n",
    "df"
   ]
  },
  {
   "cell_type": "code",
   "execution_count": 15,
   "id": "e6fd7e46",
   "metadata": {},
   "outputs": [],
   "source": [
    "df.to_excel('上映中映画情報.xlsx', index=False)"
   ]
  },
  {
   "cell_type": "markdown",
   "id": "2cf46e4f",
   "metadata": {},
   "source": [
    "# ２すべての画像を収集"
   ]
  },
  {
   "cell_type": "code",
   "execution_count": 9,
   "id": "50850a9e-86b3-47d6-a1e1-2cc6bd67a635",
   "metadata": {},
   "outputs": [
    {
     "name": "stdout",
     "output_type": "stream",
     "text": [
      "Directory  image  Created \n"
     ]
    }
   ],
   "source": [
    "# 画像を格納するフォルダーを作る。\n",
    "import os\n",
    "dirName = 'image'\n",
    "os.mkdir(dirName)\n",
    "print(\"Directory \" , dirName ,  \" Created \")"
   ]
  },
  {
   "cell_type": "code",
   "execution_count": 10,
   "id": "b4cd4fd2",
   "metadata": {},
   "outputs": [],
   "source": [
    "from PIL import Image\n",
    "from PIL import UnidentifiedImageError\n",
    "import io\n",
    "from urllib import request\n",
    "\n",
    "for page in range(1,14): # 14ページまで情報収集する。\n",
    "    url = 'https://filmarks.com/list/now?page={}'.format(page)\n",
    "    browser.get(url)\n",
    "    elems = browser.find_elements(By.CLASS_NAME, 'p-content-cassette__jacket')\n",
    "    elems_wrapper = browser.find_elements(By.CLASS_NAME, 'p-content-cassette__title-wrapper')\n",
    "    for elem, elem_wrapper in zip(elems, elems_wrapper):\n",
    "        try:\n",
    "            elem_title = elem_wrapper.find_element(By.CLASS_NAME, 'p-content-cassette__title')\n",
    "            elem = elem.find_element(By.TAG_NAME, 'img')\n",
    "            url = elem.get_attribute('src')\n",
    "            f = io.BytesIO(request.urlopen(url).read())\n",
    "            img = Image.open(f)\n",
    "        except UnidentifiedImageError: # 画像形式に問題がある場合。\n",
    "            img = img.convert('RGB')\n",
    "            img.save('image\\{}.jpg'.format(elem_title.text)) \n",
    "        else:\n",
    "            if KeyError:\n",
    "                img = img.convert('RGB')　 # 画像名に「/」が入った場合。\n",
    "                img.save('image\\{}.jpg'.format(elem_title.text.replace(\"/\", ' ')))\n",
    "            else:\n",
    "                img.save('image\\{}.jpg'.format(elem_title.text))"
   ]
  }
 ],
 "metadata": {
  "kernelspec": {
   "display_name": "Python 3 (ipykernel)",
   "language": "python",
   "name": "python3"
  },
  "language_info": {
   "codemirror_mode": {
    "name": "ipython",
    "version": 3
   },
   "file_extension": ".py",
   "mimetype": "text/x-python",
   "name": "python",
   "nbconvert_exporter": "python",
   "pygments_lexer": "ipython3",
   "version": "3.9.13"
  },
  "toc": {
   "base_numbering": 1,
   "nav_menu": {},
   "number_sections": true,
   "sideBar": true,
   "skip_h1_title": false,
   "title_cell": "Table of Contents",
   "title_sidebar": "Contents",
   "toc_cell": false,
   "toc_position": {},
   "toc_section_display": true,
   "toc_window_display": false
  }
 },
 "nbformat": 4,
 "nbformat_minor": 5
}
